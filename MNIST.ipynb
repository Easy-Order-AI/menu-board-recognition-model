{
 "cells": [
  {
   "cell_type": "code",
   "execution_count": 1,
   "id": "b9be1987",
   "metadata": {},
   "outputs": [],
   "source": [
    "import numpy as np\n",
    "import os\n",
    "import urllib.request as urllib\n",
    "import gzip\n",
    "import struct\n",
    "import base64"
   ]
  },
  {
   "cell_type": "code",
   "execution_count": 2,
   "id": "1d25c9a0",
   "metadata": {},
   "outputs": [],
   "source": [
    "def download_data(url, force_download=True):\n",
    "    fname=url.split(\"/\")[-1]\n",
    "    if force_download or not os.path.exists(fname):\n",
    "        urllib.urlretrieve(url,fname)\n",
    "    return fname"
   ]
  },
  {
   "cell_type": "code",
   "execution_count": 3,
   "id": "40896e65",
   "metadata": {},
   "outputs": [],
   "source": [
    "def read_data(label_url, image_url):\n",
    "    with gzip.open(download_data(label_url)) as flbl:\n",
    "        magic, num =struct.unpack(\">II\", flbl.read(8))\n",
    "        label=np.frombuffer(flbl.read(), dtype=np.int8)\n",
    "    with gzip.open(download_data(image_url), 'rb') as fimg:\n",
    "        magic, num, rows, cols = struct.unpack(\">IIII\", fimg.read(16))\n",
    "        image = np.frombuffer(fimg.read(), dtype=np.uint8).reshape(len(label), rows, cols)\n",
    "        return (label, image)"
   ]
  },
  {
   "cell_type": "code",
   "execution_count": 4,
   "id": "0e4cfe4d",
   "metadata": {},
   "outputs": [],
   "source": [
    "path='http://yann.lecun.com/exdb/mnist/'"
   ]
  },
  {
   "cell_type": "code",
   "execution_count": 5,
   "id": "ae88e205",
   "metadata": {},
   "outputs": [],
   "source": [
    "(train_lbl, train_img) = read_data(path+'train-labels-idx1-ubyte.gz', path+'train-images-idx3-ubyte.gz')\n",
    "(val_lbl, val_img) = read_data(path+'t10k-labels-idx1-ubyte.gz', path+'t10k-images-idx3-ubyte.gz')"
   ]
  },
  {
   "cell_type": "code",
   "execution_count": 6,
   "id": "09b672b0",
   "metadata": {
    "scrolled": true
   },
   "outputs": [
    {
     "data": {
      "image/png": "[encoded data removed]",
      "text/plain": [
       "<Figure size 432x288 with 10 Axes>"
      ]
     },
     "metadata": {
      "needs_background": "light"
     },
     "output_type": "display_data"
    },
    {
     "name": "stdout",
     "output_type": "stream",
     "text": [
      "Label: [5 0 4 1 9 2 1 3 1 4]\n"
     ]
    }
   ],
   "source": [
    "%matplotlib inline\n",
    "import matplotlib.pyplot as plt\n",
    " \n",
    "for i in range(10):\n",
    "    plt.subplot(1,10,i+1)\n",
    "    plt.imshow(train_img[i], cmap='Greys_r')\n",
    "    plt.axis('off')\n",
    "plt.show()\n",
    "print('Label: %s' % (train_lbl[0:10],))"
   ]
  },
  {
   "cell_type": "code",
   "execution_count": null,
   "id": "0f350339",
   "metadata": {},
   "outputs": [],
   "source": []
  }
 ],
 "metadata": {
  "kernelspec": {
   "display_name": "Python 3 (ipykernel)",
   "language": "python",
   "name": "python3"
  },
  "language_info": {
   "codemirror_mode": {
    "name": "ipython",
    "version": 3
   },
   "file_extension": ".py",
   "mimetype": "text/x-python",
   "name": "python",
   "nbconvert_exporter": "python",
   "pygments_lexer": "ipython3",
   "version": "3.7.13"
  }
 },
 "nbformat": 4,
 "nbformat_minor": 5
}

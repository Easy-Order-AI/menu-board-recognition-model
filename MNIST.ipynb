{
 "cells": [
  {
   "cell_type": "code",
   "execution_count": 1,
   "id": "5c9e9b8e",
   "metadata": {},
   "outputs": [],
   "source": [
    "import numpy as np\n",
    "import os\n",
    "import urllib.request as urllib\n",
    "import gzip\n",
    "import struct\n",
    "import base64"
   ]
  },
  {
   "cell_type": "code",
   "execution_count": 2,
   "id": "388c65b2",
   "metadata": {},
   "outputs": [],
   "source": [
    "def download_data(url, force_download=True):\n",
    "    fname=url.split(\"/\")[-1]\n",
    "    if force_download or not os.path.exists(fname):\n",
    "        urllib.urlretrieve(url,fname)\n",
    "    return fname"
   ]
  },
  {
   "cell_type": "code",
   "execution_count": 3,
   "id": "c3b2b19f",
   "metadata": {},
   "outputs": [],
   "source": [
    "def read_data(label_url, image_url):\n",
    "    with gzip.open(download_data(label_url)) as flbl:\n",
    "        magic, num =struct.unpack(\">II\", flbl.read(8))\n",
    "        label=np.frombuffer(flbl.read(), dtype=np.int8)\n",
    "    with gzip.open(download_data(image_url), 'rb') as fimg:\n",
    "        magic, num, rows, cols = struct.unpack(\">IIII\", fimg.read(16))\n",
    "        image = np.frombuffer(fimg.read(), dtype=np.uint8).reshape(len(label), rows, cols)\n",
    "        return (label, image)"
   ]
  },
  {
   "cell_type": "code",
   "execution_count": 4,
   "id": "6a6c5e44",
   "metadata": {},
   "outputs": [],
   "source": [
    "path='http://yann.lecun.com/exdb/mnist/'"
   ]
  },
  {
   "cell_type": "code",
   "execution_count": 5,
   "id": "a60705a0",
   "metadata": {},
   "outputs": [],
   "source": [
    "(train_lbl, train_img) = read_data(path+'train-labels-idx1-ubyte.gz', path+'train-images-idx3-ubyte.gz')\n",
    "(val_lbl, val_img) = read_data(path+'t10k-labels-idx1-ubyte.gz', path+'t10k-images-idx3-ubyte.gz')"
   ]
  },
  {
   "cell_type": "code",
   "execution_count": 6,
   "id": "27dbf126",
   "metadata": {
    "scrolled": true
   },
   "outputs": [
    {
     "data": {
      "image/png": "[encoded data removed]",
      "text/plain": [
       "<Figure size 432x288 with 10 Axes>"
      ]
     },
     "metadata": {
      "needs_background": "light"
     },
     "output_type": "display_data"
    },
    {
     "name": "stdout",
     "output_type": "stream",
     "text": [
      "Label: [5 0 4 1 9 2 1 3 1 4]\n"
     ]
    }
   ],
   "source": [
    "%matplotlib inline\n",
    "import matplotlib.pyplot as plt\n",
    " \n",
    "for i in range(10):\n",
    "    plt.subplot(1,10,i+1)\n",
    "    plt.imshow(train_img[i], cmap='Greys_r')\n",
    "    plt.axis('off')\n",
    "plt.show()\n",
    "print('Label: %s' % (train_lbl[0:10],))"
   ]
  },
  {
   "cell_type": "code",
   "execution_count": 7,
   "id": "eb550f8c",
   "metadata": {},
   "outputs": [
    {
     "name": "stderr",
     "output_type": "stream",
     "text": [
      "Using TensorFlow backend.\n"
     ]
    }
   ],
   "source": [
    "import tensorflow.keras as keras\n",
    "from keras.models import load_model"
   ]
  },
  {
   "cell_type": "code",
   "execution_count": 8,
   "id": "e60f48e8",
   "metadata": {},
   "outputs": [],
   "source": [
    "model = load_model(\"keras_mnist.h5\")"
   ]
  },
  {
   "cell_type": "code",
   "execution_count": 9,
   "id": "690bcbff",
   "metadata": {},
   "outputs": [],
   "source": [
    "img=val_img[0]"
   ]
  },
  {
   "cell_type": "code",
   "execution_count": 12,
   "id": "7fda9e23",
   "metadata": {},
   "outputs": [
    {
     "data": {
      "image/png": "[encoded data removed]",
      "text/plain": [
       "<Figure size 432x288 with 1 Axes>"
      ]
     },
     "metadata": {
      "needs_background": "light"
     },
     "output_type": "display_data"
    }
   ],
   "source": [
    "plt.imshow(img, cmap=\"Greys_r\")\n",
    "plt.axis(\"off\")\n",
    "plt.show()\n",
    "re_val_img = img.reshape(1,784).astype(\"float32\")"
   ]
  },
  {
   "cell_type": "code",
   "execution_count": 13,
   "id": "50760c47",
   "metadata": {},
   "outputs": [],
   "source": [
    "prob = model.predict(re_val_img/255)[0]"
   ]
  },
  {
   "cell_type": "code",
   "execution_count": 14,
   "id": "8a999b38",
   "metadata": {},
   "outputs": [
    {
     "name": "stdout",
     "output_type": "stream",
     "text": [
      "Classified as 7 with probability 1.000000\n"
     ]
    }
   ],
   "source": [
    "assert max(prob) > 0.99, \"Low prediction accuracy.\"\n",
    "print ('Classified as %d with probability %f' % (prob.argmax(), max(prob)))"
   ]
  },
  {
   "cell_type": "code",
   "execution_count": 15,
   "id": "f1e60ffe",
   "metadata": {},
   "outputs": [],
   "source": [
    "input_form = \"\"\"\n",
    "<style type=\"text/css\">\n",
    "  canvas { border: 1px solid black; }\n",
    "</style>\n",
    "\n",
    "<div id=\"board\">\n",
    "\n",
    "  <canvas id=\"myCanvas\" width=\"200px\" height=\"200px\">\n",
    "    Sorry, your browser doesn't support canvas technology.\n",
    "  </canvas>\n",
    "\n",
    "  <p>\n",
    "    <button id=\"classify\" onclick=\"classify()\">\n",
    "      Classify\n",
    "    </button>\n",
    "\n",
    "    <button id=\"clear\" onclick=\"myClear()\">\n",
    "      Clear\n",
    "    </button>\n",
    "    Result: \n",
    "    <input type=\"text\" id=\"result_output\" size=\"5\" value=\"\">\n",
    "  </p>\n",
    "\n",
    "</div>\n",
    "\"\"\""
   ]
  },
  {
   "cell_type": "code",
   "execution_count": 16,
   "id": "f1409545",
   "metadata": {},
   "outputs": [],
   "source": [
    "javascript = \"\"\"\n",
    "<script type = \"text/JavaScript\" src = \"https://ajax.googleapis.com/ajax/libs/jquery/1.4.2/jquery.min.js?ver=1.4.2\" > </script>\n",
    "\n",
    "<script type = \"text/javascript\" >\n",
    "    function init() {\n",
    "        var myCanvas = document.getElementById(\"myCanvas\");\n",
    "        var curColor = $('#selectColor option:selected').val();\n",
    "        if (myCanvas) {\n",
    "            var isDown = false;\n",
    "            var ctx = myCanvas.getContext(\"2d\");\n",
    "            var canvasX, canvasY;\n",
    "            ctx.lineWidth = 8;\n",
    "            $(myCanvas).mousedown(function(e) {\n",
    "                isDown = true;\n",
    "                ctx.beginPath();\n",
    "                var parentOffset = $(this).parent().offset();\n",
    "                canvasX = e.pageX - parentOffset.left;\n",
    "                canvasY = e.pageY - parentOffset.top;\n",
    "                ctx.moveTo(canvasX, canvasY);\n",
    "            }).mousemove(function(e) {\n",
    "                if (isDown != false) {\n",
    "                    var parentOffset = $(this).parent().offset();\n",
    "                    canvasX = e.pageX - parentOffset.left;\n",
    "                    canvasY = e.pageY - parentOffset.top;\n",
    "                    ctx.lineTo(canvasX, canvasY);\n",
    "                    ctx.strokeStyle = curColor;\n",
    "                    ctx.stroke();\n",
    "                }\n",
    "            }).mouseup(function(e) {\n",
    "                isDown = false;\n",
    "                ctx.closePath();\n",
    "            });\n",
    "        }\n",
    "        $('#selectColor').change(function() {\n",
    "            curColor = $('#selectColor option:selected').val();\n",
    "        });\n",
    "    }\n",
    "\n",
    "init();\n",
    "\n",
    "function handle_output(out) {\n",
    "    console.log(out);\n",
    "    var res = null;\n",
    "    // if output is a print statement\n",
    "    if(out.msg_type == \"stream\"){\n",
    "       res = out.content.data;\n",
    "    }\n",
    "    // if output is a python object\n",
    "    else if(out.msg_type === \"execute_result\"){\n",
    "       res = out.content.data[\"text/plain\"];\n",
    "    }\n",
    "    // if output is a python error\n",
    "    else if(out.msg_type == \"pyerr\"){\n",
    "       res = out.content.ename + \": \" + out.content.evalue;\n",
    "    }\n",
    "    // if output is something we haven't thought of\n",
    "    else{\n",
    "       res = out.msg_type;  \n",
    "    }\n",
    "    document.getElementById(\"result_output\").value = res;\n",
    "}\n",
    "\n",
    "function classify() {\n",
    "    var kernel = IPython.notebook.kernel;\n",
    "    var myCanvas = document.getElementById(\"myCanvas\");\n",
    "    data = myCanvas.toDataURL('image/png');\n",
    "    document.getElementById(\"result_output\").value = \"\";\n",
    "    kernel.execute(\"classifyML('\" + data + \"')\", {\n",
    "        'iopub': {\n",
    "            'output': handle_output\n",
    "        }\n",
    "    }, {\n",
    "        silent: false\n",
    "    });\n",
    "}\n",
    "\n",
    "function myClear() {\n",
    "    var myCanvas = document.getElementById(\"myCanvas\");\n",
    "    myCanvas.getContext(\"2d\").clearRect(0, 0, myCanvas.width, myCanvas.height);\n",
    "}\n",
    "</script>\n",
    "\"\"\""
   ]
  },
  {
   "cell_type": "code",
   "execution_count": 17,
   "id": "8f83d54c",
   "metadata": {},
   "outputs": [],
   "source": [
    "from IPython.display import HTML\n",
    "import cv2\n",
    "import numpy as np"
   ]
  },
  {
   "cell_type": "code",
   "execution_count": 18,
   "id": "df92eb3b",
   "metadata": {},
   "outputs": [],
   "source": [
    "def classifyML(img):\n",
    "    print('ddd')\n",
    "    img = base64.b64decode(img[len('data:image/png;base64,'):])\n",
    "    img = cv2.imdecode(np.fromstring(img, np.uint8), -1)\n",
    "    img = cv2.resize(img[:,:,3], (28,28))\n",
    "    img = img.astype(np.float32).reshape((1,784))/255.0\n",
    "    print(model.predict(img)[0].argmax())\n",
    "    return model.predict(img)[0].argmax()"
   ]
  },
  {
   "cell_type": "code",
   "execution_count": 19,
   "id": "363b6e4b",
   "metadata": {},
   "outputs": [
    {
     "data": {
      "text/html": [
       "\n",
       "<style type=\"text/css\">\n",
       "  canvas { border: 1px solid black; }\n",
       "</style>\n",
       "\n",
       "<div id=\"board\">\n",
       "\n",
       "  <canvas id=\"myCanvas\" width=\"200px\" height=\"200px\">\n",
       "    Sorry, your browser doesn't support canvas technology.\n",
       "  </canvas>\n",
       "\n",
       "  <p>\n",
       "    <button id=\"classify\" onclick=\"classify()\">\n",
       "      Classify\n",
       "    </button>\n",
       "\n",
       "    <button id=\"clear\" onclick=\"myClear()\">\n",
       "      Clear\n",
       "    </button>\n",
       "    Result: \n",
       "    <input type=\"text\" id=\"result_output\" size=\"5\" value=\"\">\n",
       "  </p>\n",
       "\n",
       "</div>\n",
       "\n",
       "<script type = \"text/JavaScript\" src = \"https://ajax.googleapis.com/ajax/libs/jquery/1.4.2/jquery.min.js?ver=1.4.2\" > </script>\n",
       "\n",
       "<script type = \"text/javascript\" >\n",
       "    function init() {\n",
       "        var myCanvas = document.getElementById(\"myCanvas\");\n",
       "        var curColor = $('#selectColor option:selected').val();\n",
       "        if (myCanvas) {\n",
       "            var isDown = false;\n",
       "            var ctx = myCanvas.getContext(\"2d\");\n",
       "            var canvasX, canvasY;\n",
       "            ctx.lineWidth = 8;\n",
       "            $(myCanvas).mousedown(function(e) {\n",
       "                isDown = true;\n",
       "                ctx.beginPath();\n",
       "                var parentOffset = $(this).parent().offset();\n",
       "                canvasX = e.pageX - parentOffset.left;\n",
       "                canvasY = e.pageY - parentOffset.top;\n",
       "                ctx.moveTo(canvasX, canvasY);\n",
       "            }).mousemove(function(e) {\n",
       "                if (isDown != false) {\n",
       "                    var parentOffset = $(this).parent().offset();\n",
       "                    canvasX = e.pageX - parentOffset.left;\n",
       "                    canvasY = e.pageY - parentOffset.top;\n",
       "                    ctx.lineTo(canvasX, canvasY);\n",
       "                    ctx.strokeStyle = curColor;\n",
       "                    ctx.stroke();\n",
       "                }\n",
       "            }).mouseup(function(e) {\n",
       "                isDown = false;\n",
       "                ctx.closePath();\n",
       "            });\n",
       "        }\n",
       "        $('#selectColor').change(function() {\n",
       "            curColor = $('#selectColor option:selected').val();\n",
       "        });\n",
       "    }\n",
       "\n",
       "init();\n",
       "\n",
       "function handle_output(out) {\n",
       "    console.log(out);\n",
       "    var res = null;\n",
       "    // if output is a print statement\n",
       "    if(out.msg_type == \"stream\"){\n",
       "       res = out.content.data;\n",
       "    }\n",
       "    // if output is a python object\n",
       "    else if(out.msg_type === \"execute_result\"){\n",
       "       res = out.content.data[\"text/plain\"];\n",
       "    }\n",
       "    // if output is a python error\n",
       "    else if(out.msg_type == \"pyerr\"){\n",
       "       res = out.content.ename + \": \" + out.content.evalue;\n",
       "    }\n",
       "    // if output is something we haven't thought of\n",
       "    else{\n",
       "       res = out.msg_type;  \n",
       "    }\n",
       "    document.getElementById(\"result_output\").value = res;\n",
       "}\n",
       "\n",
       "function classify() {\n",
       "    var kernel = IPython.notebook.kernel;\n",
       "    var myCanvas = document.getElementById(\"myCanvas\");\n",
       "    data = myCanvas.toDataURL('image/png');\n",
       "    document.getElementById(\"result_output\").value = \"\";\n",
       "    kernel.execute(\"classifyML('\" + data + \"')\", {\n",
       "        'iopub': {\n",
       "            'output': handle_output\n",
       "        }\n",
       "    }, {\n",
       "        silent: false\n",
       "    });\n",
       "}\n",
       "\n",
       "function myClear() {\n",
       "    var myCanvas = document.getElementById(\"myCanvas\");\n",
       "    myCanvas.getContext(\"2d\").clearRect(0, 0, myCanvas.width, myCanvas.height);\n",
       "}\n",
       "</script>\n"
      ],
      "text/plain": [
       "<IPython.core.display.HTML object>"
      ]
     },
     "execution_count": 19,
     "metadata": {},
     "output_type": "execute_result"
    }
   ],
   "source": [
    "HTML(input_form + javascript)"
   ]
  },
  {
   "cell_type": "code",
   "execution_count": null,
   "id": "b156d12a",
   "metadata": {},
   "outputs": [],
   "source": []
  }
 ],
 "metadata": {
  "kernelspec": {
   "display_name": "Python 3 (ipykernel)",
   "language": "python",
   "name": "python3"
  },
  "language_info": {
   "codemirror_mode": {
    "name": "ipython",
    "version": 3
   },
   "file_extension": ".py",
   "mimetype": "text/x-python",
   "name": "python",
   "nbconvert_exporter": "python",
   "pygments_lexer": "ipython3",
   "version": "3.7.13"
  }
 },
 "nbformat": 4,
 "nbformat_minor": 5
}
